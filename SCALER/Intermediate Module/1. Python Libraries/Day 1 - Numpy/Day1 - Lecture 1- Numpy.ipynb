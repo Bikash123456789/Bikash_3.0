{
 "cells": [
  {
   "cell_type": "markdown",
   "id": "823743e3-be1a-4e4b-98cc-ecb6d6eff75d",
   "metadata": {},
   "source": [
    "# Lecture 1 - NUMPY"
   ]
  },
  {
   "cell_type": "markdown",
   "id": "eb0fe2a3-7841-4c6f-8f22-e07b13851e97",
   "metadata": {},
   "source": [
    "NumPy arrays and Python lists are both used to store collections of data, but they have several key differences that make them suitable for different tasks:\n",
    "\n",
    "1. Type Consistency\n",
    "Python Lists: Can store elements of different types (e.g., integers, floats, strings, objects).\n",
    "NumPy Arrays: Store elements of the same data type, which makes them more efficient for numerical computations.\n",
    "2. Performance\n",
    "Python Lists: Slower for large datasets, as Python lists are implemented as arrays of pointers to objects, leading to higher memory consumption and slower operations.\n",
    "NumPy Arrays: Much faster due to optimized low-level implementations in C, and the fact that NumPy stores data in contiguous blocks of memory. This allows for efficient computations, especially with large datasets.\n",
    "3. Size Flexibility\n",
    "Python Lists: Can grow and shrink dynamically, allowing for the insertion and deletion of elements.\n",
    "NumPy Arrays: Fixed in size once created. Resizing an array requires creating a new array and copying the data.\n",
    "4. Mathematical Operations\n",
    "Python Lists: Element-wise operations (e.g., addition, multiplication) need to be implemented using loops or list comprehensions.\n",
    "NumPy Arrays: Support vectorized operations, meaning you can apply operations to the entire array at once without needing to write loops. This is both more efficient and simpler.\n",
    "5. Functionality\n",
    "Python Lists: More general-purpose, flexible containers for objects.\n",
    "NumPy Arrays: Specialized for numerical computing and provide functions for linear algebra, Fourier transforms, random number generation, and more.\n",
    "6. Memory Consumption\n",
    "Python Lists: Take more memory, as they store references to objects, which can be of different types.\n",
    "NumPy Arrays: More memory-efficient since all elements are of the same type and stored in contiguous memory.\n",
    "\n"
   ]
  },
  {
   "cell_type": "markdown",
   "id": "e5c7e91f-35d3-4d7d-bc7e-2746d150822c",
   "metadata": {},
   "source": [
    "### What are the Major reasons behind numpy's faster computation ?\n",
    "1. Numpy arrays are densely packed due to it's homogeneous type.\n",
    "2. Numpy arrays are implemented in C language.\n",
    "3. Numpy is able to divide a task into multiple subtasks and process them parallely."
   ]
  },
  {
   "cell_type": "code",
   "execution_count": null,
   "id": "3c1eabd3-efab-4186-806b-a0d4fc4139f4",
   "metadata": {},
   "outputs": [],
   "source": []
  }
 ],
 "metadata": {
  "kernelspec": {
   "display_name": "Python 3 (ipykernel)",
   "language": "python",
   "name": "python3"
  },
  "language_info": {
   "codemirror_mode": {
    "name": "ipython",
    "version": 3
   },
   "file_extension": ".py",
   "mimetype": "text/x-python",
   "name": "python",
   "nbconvert_exporter": "python",
   "pygments_lexer": "ipython3",
   "version": "3.12.4"
  }
 },
 "nbformat": 4,
 "nbformat_minor": 5
}
