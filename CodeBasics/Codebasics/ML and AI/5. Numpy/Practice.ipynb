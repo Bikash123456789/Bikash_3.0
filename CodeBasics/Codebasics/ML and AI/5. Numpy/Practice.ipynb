{
 "cells": [
  {
   "cell_type": "code",
   "execution_count": 55,
   "id": "7cdfadfd-23b7-4d5a-9bd8-b33a770ffae6",
   "metadata": {},
   "outputs": [],
   "source": [
    "import numpy as np\n",
    "\n",
    "q1 = np.array([\n",
    "    [200, 220, 250],  # Product A\n",
    "    [150, 180, 210],  # Product B\n",
    "    [300, 330, 360]   # Product C\n",
    "])\n",
    "\n",
    "q2 = np.array([\n",
    "    [209, 231, 259],  # Product A\n",
    "    [155, 192, 222],  # Product B\n",
    "    [310, 340, 375]   # Product C\n",
    "])"
   ]
  },
  {
   "cell_type": "code",
   "execution_count": 56,
   "id": "cb11dc43-f050-4bc2-8b78-ded05240b212",
   "metadata": {},
   "outputs": [],
   "source": [
    "combined_sales = q1 + q2"
   ]
  },
  {
   "cell_type": "code",
   "execution_count": 57,
   "id": "6ada020c-6bda-4780-9c7c-cc9b13a51e09",
   "metadata": {},
   "outputs": [
    {
     "data": {
      "text/plain": [
       "array([[409, 451, 509],\n",
       "       [305, 372, 432],\n",
       "       [610, 670, 735]])"
      ]
     },
     "execution_count": 57,
     "metadata": {},
     "output_type": "execute_result"
    }
   ],
   "source": [
    "combined_sales"
   ]
  },
  {
   "cell_type": "code",
   "execution_count": 58,
   "id": "884efb4e-167b-4dd1-adca-7af77cb4e989",
   "metadata": {},
   "outputs": [],
   "source": [
    "prices = np.array([\n",
    "    [10, 12, 11],  # Prices for Product A in different regions\n",
    "    [8,  9,  10],  # Prices for Product B\n",
    "    [15, 16, 17]   # Prices for Product C\n",
    "])\n"
   ]
  },
  {
   "cell_type": "code",
   "execution_count": 61,
   "id": "75807576-d7a8-4d2a-8a73-3c4a7aff79d6",
   "metadata": {},
   "outputs": [],
   "source": [
    "q1_total_price = q1*prices\n",
    "q2_total_price = q2*prices"
   ]
  },
  {
   "cell_type": "code",
   "execution_count": null,
   "id": "6c048d2e-aec9-4999-bd01-220e3224aac4",
   "metadata": {},
   "outputs": [],
   "source": []
  },
  {
   "cell_type": "code",
   "execution_count": null,
   "id": "519780f4-644d-48c4-9b48-424b400b8bd1",
   "metadata": {},
   "outputs": [],
   "source": []
  }
 ],
 "metadata": {
  "kernelspec": {
   "display_name": "Python 3 (ipykernel)",
   "language": "python",
   "name": "python3"
  },
  "language_info": {
   "codemirror_mode": {
    "name": "ipython",
    "version": 3
   },
   "file_extension": ".py",
   "mimetype": "text/x-python",
   "name": "python",
   "nbconvert_exporter": "python",
   "pygments_lexer": "ipython3",
   "version": "3.12.4"
  }
 },
 "nbformat": 4,
 "nbformat_minor": 5
}
