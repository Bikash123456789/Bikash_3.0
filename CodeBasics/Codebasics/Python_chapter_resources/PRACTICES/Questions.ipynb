{
 "cells": [
  {
   "cell_type": "markdown",
   "id": "d3d95473-345e-4654-962f-c69a59fdab0b",
   "metadata": {},
   "source": [
    "### STRINGS"
   ]
  },
  {
   "cell_type": "code",
   "execution_count": null,
   "id": "de8510f6-fdf4-48b2-a1e3-04209d7bd48d",
   "metadata": {},
   "outputs": [],
   "source": []
  },
  {
   "cell_type": "code",
   "execution_count": null,
   "id": "91f83cdd-e044-4864-9118-12ca07c9ef5b",
   "metadata": {},
   "outputs": [],
   "source": []
  },
  {
   "cell_type": "code",
   "execution_count": 5,
   "id": "0f728972-b74d-4709-82f6-dcf2115d0a9d",
   "metadata": {},
   "outputs": [
    {
     "name": "stdout",
     "output_type": "stream",
     "text": [
      "I eat 10 fruits and 20 vegetables daily\n"
     ]
    }
   ],
   "source": [
    "f = 10\n",
    "v = 20\n",
    "print(f\"I eat {f} fruits and {v} vegetables daily\")"
   ]
  },
  {
   "cell_type": "code",
   "execution_count": 6,
   "id": "c4978e64-56fc-4628-b9c6-9c1c95c9481a",
   "metadata": {},
   "outputs": [],
   "source": [
    "s = \"The Himalayas are one of the youngest mountain ranges on the planet.\""
   ]
  },
  {
   "cell_type": "code",
   "execution_count": 8,
   "id": "de8db260-c38d-4761-b394-d928d7b48118",
   "metadata": {},
   "outputs": [
    {
     "data": {
      "text/plain": [
       "'The Himalayas'"
      ]
     },
     "execution_count": 8,
     "metadata": {},
     "output_type": "execute_result"
    }
   ],
   "source": [
    "s[:13]"
   ]
  },
  {
   "cell_type": "code",
   "execution_count": 10,
   "id": "8e7df874-ad8b-4d97-a968-018cf1710803",
   "metadata": {},
   "outputs": [
    {
     "name": "stdout",
     "output_type": "stream",
     "text": [
      "Sujata\n"
     ]
    }
   ],
   "source": [
    "name = \"Bikash is my name\"\n",
    "print(name[:6].replace(\"Bikash\",\"Sujata\"))"
   ]
  },
  {
   "cell_type": "markdown",
   "id": "74eeb032-abb6-43a0-81c3-913768dd3f94",
   "metadata": {},
   "source": [
    "### LISTS"
   ]
  },
  {
   "cell_type": "code",
   "execution_count": 18,
   "id": "649d2acb-d0f9-4811-92cf-b5ee10f656fa",
   "metadata": {},
   "outputs": [],
   "source": [
    "avengers = [\"Iron Man\", \"Captain America\", \"Black Widow\", \"Hulk\", \"Thor\", \"Hawkeye\"]"
   ]
  },
  {
   "cell_type": "code",
   "execution_count": 19,
   "id": "d2cdb02b-b215-4306-b0a1-2d114362cf89",
   "metadata": {},
   "outputs": [
    {
     "data": {
      "text/plain": [
       "6"
      ]
     },
     "execution_count": 19,
     "metadata": {},
     "output_type": "execute_result"
    }
   ],
   "source": [
    "len(avengers)"
   ]
  },
  {
   "cell_type": "code",
   "execution_count": 21,
   "id": "25996e8b-4d5c-4838-ae38-a6c8710b0d4e",
   "metadata": {},
   "outputs": [],
   "source": [
    "avengers.append(\"Spider-Man\")"
   ]
  },
  {
   "cell_type": "code",
   "execution_count": 22,
   "id": "1bab285c-31ae-4756-b079-3e9e7a42461e",
   "metadata": {},
   "outputs": [
    {
     "data": {
      "text/plain": [
       "['Iron Man',\n",
       " 'Captain America',\n",
       " 'Black Widow',\n",
       " 'Hulk',\n",
       " 'Thor',\n",
       " 'Hawkeye',\n",
       " 'Spider-Man',\n",
       " 'Spider-Man']"
      ]
     },
     "execution_count": 22,
     "metadata": {},
     "output_type": "execute_result"
    }
   ],
   "source": [
    "avengers"
   ]
  },
  {
   "cell_type": "code",
   "execution_count": 23,
   "id": "8c07ef23-62a8-419d-8d64-7478d9425033",
   "metadata": {},
   "outputs": [],
   "source": [
    "avengers.remove(\"Spider-Man\")"
   ]
  },
  {
   "cell_type": "code",
   "execution_count": 24,
   "id": "68e12f34-cd9a-4303-8ba9-8e9e576d6416",
   "metadata": {},
   "outputs": [
    {
     "data": {
      "text/plain": [
       "['Iron Man',\n",
       " 'Captain America',\n",
       " 'Black Widow',\n",
       " 'Hulk',\n",
       " 'Thor',\n",
       " 'Hawkeye',\n",
       " 'Spider-Man']"
      ]
     },
     "execution_count": 24,
     "metadata": {},
     "output_type": "execute_result"
    }
   ],
   "source": [
    "avengers"
   ]
  },
  {
   "cell_type": "code",
   "execution_count": 25,
   "id": "56a3b2ef-dd72-4db6-9256-22d16e0c85e3",
   "metadata": {},
   "outputs": [],
   "source": [
    "avengers.remove(\"Captain America\")"
   ]
  },
  {
   "cell_type": "code",
   "execution_count": 26,
   "id": "67a76546-c4f2-4db2-a2f6-3dc42628a9ef",
   "metadata": {},
   "outputs": [
    {
     "data": {
      "text/plain": [
       "['Iron Man', 'Black Widow', 'Hulk', 'Thor', 'Hawkeye', 'Spider-Man']"
      ]
     },
     "execution_count": 26,
     "metadata": {},
     "output_type": "execute_result"
    }
   ],
   "source": [
    "avengers"
   ]
  },
  {
   "cell_type": "code",
   "execution_count": 27,
   "id": "fe685e99-19b2-4c6c-8812-eda75a7c13e5",
   "metadata": {},
   "outputs": [],
   "source": [
    "avengers.insert(0,\"Captain America\")"
   ]
  },
  {
   "cell_type": "code",
   "execution_count": 28,
   "id": "6f242761-5546-4ae7-8812-8a55769b304e",
   "metadata": {},
   "outputs": [
    {
     "ename": "NameError",
     "evalue": "name 'av' is not defined",
     "output_type": "error",
     "traceback": [
      "\u001b[1;31m---------------------------------------------------------------------------\u001b[0m",
      "\u001b[1;31mNameError\u001b[0m                                 Traceback (most recent call last)",
      "Cell \u001b[1;32mIn[28], line 1\u001b[0m\n\u001b[1;32m----> 1\u001b[0m \u001b[43mav\u001b[49m\n",
      "\u001b[1;31mNameError\u001b[0m: name 'av' is not defined"
     ]
    }
   ],
   "source": [
    "av"
   ]
  },
  {
   "cell_type": "code",
   "execution_count": 29,
   "id": "288ba32f-8370-4fef-9fae-ff654225075f",
   "metadata": {},
   "outputs": [
    {
     "data": {
      "text/plain": [
       "['Captain America',\n",
       " 'Iron Man',\n",
       " 'Black Widow',\n",
       " 'Hulk',\n",
       " 'Thor',\n",
       " 'Hawkeye',\n",
       " 'Spider-Man']"
      ]
     },
     "execution_count": 29,
     "metadata": {},
     "output_type": "execute_result"
    }
   ],
   "source": [
    "avengers"
   ]
  },
  {
   "cell_type": "code",
   "execution_count": 33,
   "id": "43a4f3cd-7dce-4ec6-b12c-a8047863f15a",
   "metadata": {},
   "outputs": [],
   "source": [
    "dice = [5,6,4,2,5,4,4,5,3,3,2,6,1,2,1,1,6,4,4,6,4,4,4,5]"
   ]
  },
  {
   "cell_type": "code",
   "execution_count": 34,
   "id": "3b775f8c-f304-481f-ac0e-dace2eddc01d",
   "metadata": {},
   "outputs": [
    {
     "name": "stdout",
     "output_type": "stream",
     "text": [
      "4\n"
     ]
    }
   ],
   "source": [
    "count = 0\n",
    "for i in range(len(dice)-1):\n",
    "    if dice[i]==4 and dice[i+1] == 4:\n",
    "        count = count + 1\n",
    "\n",
    "print(count)"
   ]
  },
  {
   "cell_type": "code",
   "execution_count": null,
   "id": "56dcd2f8-ac2b-4f19-99f5-fbeedbf3c840",
   "metadata": {},
   "outputs": [],
   "source": []
  }
 ],
 "metadata": {
  "kernelspec": {
   "display_name": "Python 3 (ipykernel)",
   "language": "python",
   "name": "python3"
  },
  "language_info": {
   "codemirror_mode": {
    "name": "ipython",
    "version": 3
   },
   "file_extension": ".py",
   "mimetype": "text/x-python",
   "name": "python",
   "nbconvert_exporter": "python",
   "pygments_lexer": "ipython3",
   "version": "3.12.4"
  }
 },
 "nbformat": 4,
 "nbformat_minor": 5
}
